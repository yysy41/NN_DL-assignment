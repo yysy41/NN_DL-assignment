{
 "cells": [
  {
   "cell_type": "markdown",
   "metadata": {},
   "source": [
    "## 准备数据"
   ]
  },
  {
   "cell_type": "code",
   "execution_count": 16,
   "metadata": {},
   "outputs": [],
   "source": [
    "import os\n",
    "import numpy as np\n",
    "import tensorflow as tf\n",
    "from tensorflow import keras\n",
    "from tensorflow.keras import layers, optimizers, datasets\n",
    "\n",
    "os.environ['TF_CPP_MIN_LOG_LEVEL'] = '2'  # or any {'0', '1', '2'}\n",
    "\n",
    "def mnist_dataset():\n",
    "    (x, y), (x_test, y_test) = datasets.mnist.load_data()\n",
    "    #normalize\n",
    "    x = x/255.0\n",
    "    x_test = x_test/255.0\n",
    "    \n",
    "    return (x, y), (x_test, y_test)"
   ]
  },
  {
   "cell_type": "code",
   "execution_count": 17,
   "metadata": {},
   "outputs": [
    {
     "name": "stdout",
     "output_type": "stream",
     "text": [
      "[(1, 'a'), (2, 'b'), (3, 'c'), (4, 'd')]\n"
     ]
    }
   ],
   "source": [
    "print(list(zip([1, 2, 3, 4], ['a', 'b', 'c', 'd'])))"
   ]
  },
  {
   "cell_type": "markdown",
   "metadata": {},
   "source": [
    "## 建立模型"
   ]
  },
  {
   "cell_type": "code",
   "execution_count": 18,
   "metadata": {},
   "outputs": [],
   "source": [
    "class myModel:\n",
    "    def __init__(self):\n",
    "        ####################\n",
    "        '''声明模型对应的参数'''\n",
    "        ####################\n",
    "        # 输入层到隐藏层的权重，输入为 28*28，隐藏层神经元 256 个\n",
    "        self.W1 = tf.Variable(tf.random.normal([28 * 28, 256], stddev=0.1))\n",
    "        # 隐藏层的偏置\n",
    "        self.b1 = tf.Variable(tf.zeros([256]))\n",
    "        # 隐藏层到输出层的权重，输出为 10 个类别\n",
    "        self.W2 = tf.Variable(tf.random.normal([256, 10], stddev=0.1))\n",
    "        # 输出层的偏置\n",
    "        self.b2 = tf.Variable(tf.zeros([10]))\n",
    "        \n",
    "    def __call__(self, x):\n",
    "        ####################\n",
    "        '''实现模型函数体，返回未归一化的logits'''\n",
    "        ####################\n",
    "        # 将输入的二维图像数据展平为一维向量\n",
    "        x = tf.reshape(x, [-1, 28 * 28])\n",
    "        # 计算隐藏层的输出，使用 ReLU 激活函数\n",
    "        h = tf.nn.relu(tf.matmul(x, self.W1) + self.b1)\n",
    "        # 计算输出层的未归一化 logits\n",
    "        logits = tf.matmul(h, self.W2) + self.b2\n",
    "        return logits\n",
    "        \n",
    "model = myModel()\n",
    "\n",
    "optimizer = optimizers.Adam()"
   ]
  },
  {
   "cell_type": "markdown",
   "metadata": {},
   "source": [
    "## 计算 loss"
   ]
  },
  {
   "cell_type": "code",
   "execution_count": 19,
   "metadata": {},
   "outputs": [],
   "source": [
    "# @tf.function\n",
    "def compute_loss(logits, labels):\n",
    "    return tf.reduce_mean(\n",
    "        tf.nn.sparse_softmax_cross_entropy_with_logits(\n",
    "            logits=logits, labels=labels))\n",
    "\n",
    "# @tf.function\n",
    "def compute_accuracy(logits, labels):\n",
    "    predictions = tf.argmax(logits, axis=1)\n",
    "    return tf.reduce_mean(tf.cast(tf.equal(predictions, labels), tf.float32))\n",
    "\n",
    "# @tf.function\n",
    "def train_one_step(model, optimizer, x, y):\n",
    "    with tf.GradientTape() as tape:\n",
    "        logits = model(x)\n",
    "        loss = compute_loss(logits, y)\n",
    "\n",
    "    # compute gradient\n",
    "    trainable_vars = [model.W1, model.W2, model.b1, model.b2]\n",
    "    grads = tape.gradient(loss, trainable_vars)\n",
    "    for g, v in zip(grads, trainable_vars):\n",
    "        v.assign_sub(0.01*g)\n",
    "\n",
    "    accuracy = compute_accuracy(logits, y)\n",
    "\n",
    "    # loss and accuracy is scalar tensor\n",
    "    return loss, accuracy\n",
    "\n",
    "# @tf.function\n",
    "def test(model, x, y):\n",
    "    logits = model(x)\n",
    "    loss = compute_loss(logits, y)\n",
    "    accuracy = compute_accuracy(logits, y)\n",
    "    return loss, accuracy"
   ]
  },
  {
   "cell_type": "markdown",
   "metadata": {},
   "source": [
    "## 实际训练"
   ]
  },
  {
   "cell_type": "code",
   "execution_count": 20,
   "metadata": {},
   "outputs": [
    {
     "name": "stdout",
     "output_type": "stream",
     "text": [
      "epoch 0 : loss 2.8820436 ; accuracy 0.10885\n",
      "epoch 1 : loss 2.781041 ; accuracy 0.11125\n",
      "epoch 2 : loss 2.698146 ; accuracy 0.11331667\n",
      "epoch 3 : loss 2.628307 ; accuracy 0.115483336\n",
      "epoch 4 : loss 2.5683672 ; accuracy 0.11815\n",
      "epoch 5 : loss 2.516188 ; accuracy 0.121183336\n",
      "epoch 6 : loss 2.4702358 ; accuracy 0.12408333\n",
      "epoch 7 : loss 2.4293573 ; accuracy 0.12723333\n",
      "epoch 8 : loss 2.3926477 ; accuracy 0.1312\n",
      "epoch 9 : loss 2.3593993 ; accuracy 0.13573334\n",
      "epoch 10 : loss 2.3290358 ; accuracy 0.14111666\n",
      "epoch 11 : loss 2.3010864 ; accuracy 0.14753333\n",
      "epoch 12 : loss 2.2751672 ; accuracy 0.15496667\n",
      "epoch 13 : loss 2.2509632 ; accuracy 0.16465\n",
      "epoch 14 : loss 2.2282104 ; accuracy 0.17393333\n",
      "epoch 15 : loss 2.2067008 ; accuracy 0.18368334\n",
      "epoch 16 : loss 2.1862552 ; accuracy 0.19278333\n",
      "epoch 17 : loss 2.1667213 ; accuracy 0.20328334\n",
      "epoch 18 : loss 2.1479757 ; accuracy 0.21221666\n",
      "epoch 19 : loss 2.1299129 ; accuracy 0.22121666\n",
      "epoch 20 : loss 2.1124482 ; accuracy 0.23098333\n",
      "epoch 21 : loss 2.095509 ; accuracy 0.23993333\n",
      "epoch 22 : loss 2.0790346 ; accuracy 0.24781667\n",
      "epoch 23 : loss 2.0629737 ; accuracy 0.25623333\n",
      "epoch 24 : loss 2.0472834 ; accuracy 0.26483333\n",
      "epoch 25 : loss 2.0319295 ; accuracy 0.27346668\n",
      "epoch 26 : loss 2.0168803 ; accuracy 0.28225\n",
      "epoch 27 : loss 2.0021117 ; accuracy 0.29\n",
      "epoch 28 : loss 1.987601 ; accuracy 0.29841667\n",
      "epoch 29 : loss 1.9733325 ; accuracy 0.30628332\n",
      "epoch 30 : loss 1.9592903 ; accuracy 0.31541666\n",
      "epoch 31 : loss 1.9454607 ; accuracy 0.32353333\n",
      "epoch 32 : loss 1.9318336 ; accuracy 0.33175\n",
      "epoch 33 : loss 1.9184 ; accuracy 0.34001666\n",
      "epoch 34 : loss 1.9051509 ; accuracy 0.34813333\n",
      "epoch 35 : loss 1.8920808 ; accuracy 0.35593334\n",
      "epoch 36 : loss 1.8791823 ; accuracy 0.36435\n",
      "epoch 37 : loss 1.8664508 ; accuracy 0.37296668\n",
      "epoch 38 : loss 1.8538814 ; accuracy 0.3809\n",
      "epoch 39 : loss 1.8414689 ; accuracy 0.38885\n",
      "epoch 40 : loss 1.8292094 ; accuracy 0.39691666\n",
      "epoch 41 : loss 1.8171006 ; accuracy 0.40518335\n",
      "epoch 42 : loss 1.805138 ; accuracy 0.41293332\n",
      "epoch 43 : loss 1.7933192 ; accuracy 0.4208\n",
      "epoch 44 : loss 1.781642 ; accuracy 0.42891666\n",
      "epoch 45 : loss 1.7701023 ; accuracy 0.43683332\n",
      "epoch 46 : loss 1.7586985 ; accuracy 0.4449\n",
      "epoch 47 : loss 1.7474282 ; accuracy 0.45256665\n",
      "epoch 48 : loss 1.7362888 ; accuracy 0.46015\n",
      "epoch 49 : loss 1.7252797 ; accuracy 0.46775\n",
      "test loss 1.7044023 ; accuracy 0.476\n"
     ]
    }
   ],
   "source": [
    "train_data, test_data = mnist_dataset()\n",
    "for epoch in range(50):\n",
    "    loss, accuracy = train_one_step(model, optimizer, \n",
    "                                    tf.constant(train_data[0], dtype=tf.float32), \n",
    "                                    tf.constant(train_data[1], dtype=tf.int64))\n",
    "    print('epoch', epoch, ': loss', loss.numpy(), '; accuracy', accuracy.numpy())\n",
    "loss, accuracy = test(model, \n",
    "                      tf.constant(test_data[0], dtype=tf.float32), \n",
    "                      tf.constant(test_data[1], dtype=tf.int64))\n",
    "\n",
    "print('test loss', loss.numpy(), '; accuracy', accuracy.numpy())"
   ]
  }
 ],
 "metadata": {
  "kernelspec": {
   "display_name": "NN_DL",
   "language": "python",
   "name": "nn_dl"
  },
  "language_info": {
   "codemirror_mode": {
    "name": "ipython",
    "version": 3
   },
   "file_extension": ".py",
   "mimetype": "text/x-python",
   "name": "python",
   "nbconvert_exporter": "python",
   "pygments_lexer": "ipython3",
   "version": "3.7.16"
  }
 },
 "nbformat": 4,
 "nbformat_minor": 2
}
